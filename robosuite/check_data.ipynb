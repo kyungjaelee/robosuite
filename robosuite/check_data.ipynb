{
 "cells": [
  {
   "cell_type": "code",
   "execution_count": 1,
   "metadata": {},
   "outputs": [],
   "source": [
    "import pickle\n",
    "import numpy as np"
   ]
  },
  {
   "cell_type": "code",
   "execution_count": 2,
   "metadata": {},
   "outputs": [],
   "source": [
    "model_name_list = ['ResNet18', 'ResNet34', 'ResNet50', 'ResNext50', 'Wide_ResNet50', 'InceptionV4']"
   ]
  },
  {
   "cell_type": "code",
   "execution_count": 15,
   "metadata": {},
   "outputs": [
    {
     "name": "stdout",
     "output_type": "stream",
     "text": [
      "ResNet18\n",
      "Path length: 5.1/20.\n",
      "Value: 0.09740848492069723\n",
      "Invalid: 0.0\n",
      "ResNet34\n",
      "Path length: 4.9/20.\n",
      "Value: 0.09504645425804545\n",
      "Invalid: 0.0\n",
      "ResNet50\n",
      "Path length: 4.8/20.\n",
      "Value: 0.08770830341154358\n",
      "Invalid: 0.0\n",
      "ResNext50\n",
      "Path length: 6.2/20.\n",
      "Value: 0.09778755544297064\n",
      "Invalid: 0.0\n",
      "Wide_ResNet50\n",
      "Path length: 20.0/20.\n",
      "Value: 0.0\n",
      "Invalid: 0.0\n",
      "InceptionV4\n",
      "Path length: 5.5/20.\n",
      "Value: 0.09862393827618957\n",
      "Invalid: 0.0\n"
     ]
    }
   ],
   "source": [
    "for model_name in model_name_list:\n",
    "    with open('./data/mcts_test_result'+'_learning'+model_name+'.pkl', 'rb') as f:\n",
    "        data = pickle.load(f)\n",
    "        print(model_name)\n",
    "        print('Path length: {}/20.'.format(np.mean([p_l for p_l, val in zip(data['path_len_list'], data['value_list']) if not np.isinf(val)])))\n",
    "#         print(model_name, np.mean([succ_r for succ_r, val in zip(data['success_list'], data['value_list']) if not np.isinf(val)]))\n",
    "        print('Value: {}'.format(np.mean([val for val in data['value_list'] if not np.isinf(val)])))\n",
    "        print('Invalid: {}'.format(np.sum([1 for val in data['value_list'] if np.isinf(val)])))"
   ]
  },
  {
   "cell_type": "code",
   "execution_count": 7,
   "metadata": {},
   "outputs": [
    {
     "name": "stdout",
     "output_type": "stream",
     "text": [
      "9.0\n",
      "0.07142857142857142\n",
      "0.07461154984610363\n"
     ]
    }
   ],
   "source": [
    "with open('./data/mcts_test_result'+'_geometry'+'.pkl', 'rb') as f:\n",
    "    data = pickle.load(f)\n",
    "    print(np.mean([p_l for p_l, val in zip(data['path_len_list'], data['value_list']) if not np.isinf(val)]))\n",
    "    print(np.mean([succ_r for succ_r, val in zip(data['success_list'], data['value_list']) if not np.isinf(val)]))\n",
    "    print(np.mean([val for val in data['value_list'] if not np.isinf(val)])) "
   ]
  },
  {
   "cell_type": "code",
   "execution_count": 6,
   "metadata": {},
   "outputs": [
    {
     "name": "stdout",
     "output_type": "stream",
     "text": [
      "ResNet18 {'training_acc': 99.5182676714681, 'test_acc': 99.56596394161977}\n",
      "ResNet34 {'training_acc': 99.70428312505962, 'test_acc': 99.70428312505962}\n",
      "ResNet50 {'training_acc': 98.9316035486025, 'test_acc': 99.80444529237813}\n",
      "ResNext50 {'training_acc': 99.7376705141658, 'test_acc': 99.80444529237813}\n",
      "Wide_ResNet50 {'training_acc': 99.61842983878661, 'test_acc': 99.77582753028713}\n",
      "InceptionV4 {'training_acc': 99.16531527234571, 'test_acc': 99.27501669369455}\n"
     ]
    }
   ],
   "source": [
    "for model_name in model_name_list:\n",
    "    with open('./networks/'+model_name+'_depth_img'+'_results.pkl', 'rb') as f:\n",
    "        data = pickle.load(f)\n",
    "        print(model_name, data)"
   ]
  },
  {
   "cell_type": "code",
   "execution_count": null,
   "metadata": {},
   "outputs": [],
   "source": []
  }
 ],
 "metadata": {
  "kernelspec": {
   "display_name": "Python 3",
   "language": "python",
   "name": "python3"
  },
  "language_info": {
   "codemirror_mode": {
    "name": "ipython",
    "version": 3
   },
   "file_extension": ".py",
   "mimetype": "text/x-python",
   "name": "python",
   "nbconvert_exporter": "python",
   "pygments_lexer": "ipython3",
   "version": "3.6.9"
  }
 },
 "nbformat": 4,
 "nbformat_minor": 4
}
